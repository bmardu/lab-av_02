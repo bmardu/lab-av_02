{
 "cells": [
  {
   "cell_type": "code",
   "execution_count": 15,
   "metadata": {},
   "outputs": [],
   "source": [
    "#Importacion de paquetes\n",
    "import numpy as np\n",
    "import pandas as pd\n",
    "from astropy.io import fits\n",
    "from astropy.wcs import WCS"
   ]
  },
  {
   "cell_type": "code",
   "execution_count": 31,
   "metadata": {},
   "outputs": [],
   "source": [
    "#Archivos\n",
    "original = fits.open(r'C:\\Users\\bryan\\Documents\\Universidad\\Bachillerato\\Física\\Laboratorios Avanzados\\Laboratorio Avanzado II\\Código\\zoa1822+10.IF1_WGTMED (original).fits')\n",
    "w_original = WCS(r'C:\\Users\\bryan\\Documents\\Universidad\\Bachillerato\\Física\\Laboratorios Avanzados\\Laboratorio Avanzado II\\Código\\zoa1822+10.IF1_WGTMED (original).fits')\n",
    "original_data = pd.read_csv('original_cat.csv')\n",
    "#original_data = open('original_cat.txt')\n",
    "\n",
    "prueba2 = fits.open(r'C:\\Users\\bryan\\Documents\\Universidad\\Bachillerato\\Física\\Laboratorios Avanzados\\Laboratorio Avanzado II\\Código\\prueba2.fits')\n",
    "w_prueba2 = WCS(r'C:\\Users\\bryan\\Documents\\Universidad\\Bachillerato\\Física\\Laboratorios Avanzados\\Laboratorio Avanzado II\\Código\\prueba2.fits')\n",
    "prueba2_data = pd.read_csv('prueba2_cat.csv')\n",
    "#prueba2_data = open('prueba2_cat.txt')"
   ]
  },
  {
   "cell_type": "code",
   "execution_count": 69,
   "metadata": {},
   "outputs": [],
   "source": [
    "#Información del archivo prueba2.fits\n",
    "#prueba2.info()\n",
    "#prueba2[0].header\n",
    "#prueba2_header = prueba2[0]\n",
    "#print('Shape:', prueba2_header.data.shape)"
   ]
  },
  {
   "cell_type": "code",
   "execution_count": 73,
   "metadata": {},
   "outputs": [
    {
     "name": "stdout",
     "output_type": "stream",
     "text": [
      "277.5013446484082 7.668083943172511 1369010732.4932222\n",
      "277.05066171103124 7.6732436881056465 1366603811.038156\n"
     ]
    }
   ],
   "source": [
    "##Pruebas de conversión pixeles a coordenadas##\n",
    "\n",
    "#J182956.22+074105.5\n",
    "Wx1, Wy1, Wz1 = w_prueba2.wcs_pix2world(24.446, 1.455, 218.199, 1)\n",
    "print('{0} {1} {2}'.format(Wx1, Wy1, Wz1))\n",
    "\n",
    "#J182809.00+074146.8\n",
    "Wx2, Wy2, Wz2 = w_prueba2.wcs_pix2world(51.235, 1.628, 98.094, 1)\n",
    "print('{0} {1} {2}'.format(Wx2, Wy2, Wz2))"
   ]
  },
  {
   "cell_type": "code",
   "execution_count": 64,
   "metadata": {},
   "outputs": [],
   "source": [
    "#Informacion del archivo zoa1822+10.IF1_WGTMED (original).fits\n",
    "#original.info()\n",
    "#original[0].header\n",
    "#original_header = prueba2[0]\n",
    "#print('Shape:', original_header.data.shape)"
   ]
  },
  {
   "cell_type": "code",
   "execution_count": null,
   "metadata": {},
   "outputs": [],
   "source": []
  }
 ],
 "metadata": {
  "kernelspec": {
   "display_name": "Python 3",
   "language": "python",
   "name": "python3"
  },
  "language_info": {
   "codemirror_mode": {
    "name": "ipython",
    "version": 3
   },
   "file_extension": ".py",
   "mimetype": "text/x-python",
   "name": "python",
   "nbconvert_exporter": "python",
   "pygments_lexer": "ipython3",
   "version": "3.7.4"
  }
 },
 "nbformat": 4,
 "nbformat_minor": 5
}
