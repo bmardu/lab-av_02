{
 "cells": [
  {
   "cell_type": "code",
   "execution_count": 18,
   "id": "076c332c",
   "metadata": {},
   "outputs": [],
   "source": [
    "import math\n",
    "import numpy as np\n",
    "import pandas as pd\n",
    "from matplotlib import pyplot as plt"
   ]
  },
  {
   "cell_type": "code",
   "execution_count": 3,
   "id": "28147a59",
   "metadata": {},
   "outputs": [],
   "source": [
    "t_sofia = pd.read_csv (r'tabla_sofia_final.csv')\n",
    "t_shallow = pd.read_csv (r'tabla shallow(corregida).csv')"
   ]
  },
  {
   "cell_type": "code",
   "execution_count": 34,
   "id": "a3ef32f9",
   "metadata": {},
   "outputs": [
    {
     "data": {
      "image/png": "[encoded data removed]",
      "text/plain": [
       "<Figure size 432x288 with 1 Axes>"
      ]
     },
     "metadata": {
      "needs_background": "light"
     },
     "output_type": "display_data"
    }
   ],
   "source": [
    "#Histograma Relaibility\n",
    "rel = pd.DataFrame(t_sofia, columns= ['rel'])\n",
    "rel_max = float(rel.max())\n",
    "rel_min = float(rel.min())\n",
    "n_bins = np.linspace(rel_min,rel_max,9)\n",
    "\n",
    "plt.hist(rel, bins=n_bins)\n",
    "plt.show()"
   ]
  },
  {
   "cell_type": "code",
   "execution_count": null,
   "id": "92633176",
   "metadata": {},
   "outputs": [],
   "source": []
  }
 ],
 "metadata": {
  "kernelspec": {
   "display_name": "Python 3 (ipykernel)",
   "language": "python",
   "name": "python3"
  },
  "language_info": {
   "codemirror_mode": {
    "name": "ipython",
    "version": 3
   },
   "file_extension": ".py",
   "mimetype": "text/x-python",
   "name": "python",
   "nbconvert_exporter": "python",
   "pygments_lexer": "ipython3",
   "version": "3.8.8"
  }
 },
 "nbformat": 4,
 "nbformat_minor": 5
}
